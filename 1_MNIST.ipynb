{
  "nbformat": 4,
  "nbformat_minor": 0,
  "metadata": {
    "colab": {
      "name": "1. MNIST.ipynb",
      "provenance": [],
      "authorship_tag": "ABX9TyNPagqi3EhZM6ygu//rkwFj",
      "include_colab_link": true
    },
    "kernelspec": {
      "name": "python3",
      "display_name": "Python 3"
    },
    "language_info": {
      "name": "python"
    },
    "accelerator": "GPU"
  },
  "cells": [
    {
      "cell_type": "markdown",
      "metadata": {
        "id": "view-in-github",
        "colab_type": "text"
      },
      "source": [
        "<a href=\"https://colab.research.google.com/github/tony-sj/SJ-DeepLearning_practice/blob/main/1_MNIST.ipynb\" target=\"_parent\"><img src=\"https://colab.research.google.com/assets/colab-badge.svg\" alt=\"Open In Colab\"/></a>"
      ]
    },
    {
      "cell_type": "code",
      "execution_count": null,
      "metadata": {
        "id": "VDUfDisgAX4H"
      },
      "outputs": [],
      "source": [
        "import torch\n",
        "import torch.nn as nn\n",
        "import torch.nn.functional as F\n",
        "import torch.optim as optim\n",
        "from torchvision import datasets, transforms\n",
        "\n",
        "from matplotlib import pyplot as plt"
      ]
    },
    {
      "cell_type": "code",
      "source": [
        "is_cuda = torch.cuda.is_available()\n",
        "device = torch.device('cuda' if is_cuda else 'cpu')\n",
        "\n",
        "print('Current cuda device is', device)"
      ],
      "metadata": {
        "colab": {
          "base_uri": "https://localhost:8080/"
        },
        "id": "X6mQe_7ZBFHS",
        "outputId": "b531dbe9-4949-4f0c-f8c6-78147bdebddb"
      },
      "execution_count": null,
      "outputs": [
        {
          "output_type": "stream",
          "name": "stdout",
          "text": [
            "Current cuda device is cuda\n"
          ]
        }
      ]
    },
    {
      "cell_type": "code",
      "source": [
        "batch_size = 50\n",
        "epoch_num = 15\n",
        "learning_rate = 0.0001"
      ],
      "metadata": {
        "id": "TNnv3iODBw4H"
      },
      "execution_count": null,
      "outputs": []
    },
    {
      "cell_type": "code",
      "source": [
        "train_data = datasets.MNIST(root = './data', train = True, download = True, transform = transforms.ToTensor())\n",
        "test_data = datasets.MNIST(root = './data', train = False, transform = transforms.ToTensor())\n",
        "\n",
        "print('number of training data', len(train_data))\n",
        "print('number of test data', len(test_data))"
      ],
      "metadata": {
        "colab": {
          "base_uri": "https://localhost:8080/"
        },
        "id": "acJYGMDCB83G",
        "outputId": "e9c8b702-8be5-461e-b1c2-05560c4f97e7"
      },
      "execution_count": null,
      "outputs": [
        {
          "output_type": "stream",
          "name": "stdout",
          "text": [
            "number of training data 60000\n",
            "number of test data 10000\n"
          ]
        }
      ]
    },
    {
      "cell_type": "code",
      "source": [
        "image, label = train_data[1]\n",
        "\n",
        "plt.imshow(image.squeeze().numpy(), cmap = 'gray')\n",
        "plt.title('label : %s' % label)\n",
        "plt.show()"
      ],
      "metadata": {
        "colab": {
          "base_uri": "https://localhost:8080/",
          "height": 281
        },
        "id": "oSPd9WKiCnsL",
        "outputId": "a76e46e8-3a69-4477-db42-ebc4654b461c"
      },
      "execution_count": null,
      "outputs": [
        {
          "output_type": "display_data",
          "data": {
            "image/png": "[encoded data removed]",
            "text/plain": [
              "<Figure size 432x288 with 1 Axes>"
            ]
          },
          "metadata": {
            "needs_background": "light"
          }
        }
      ]
    },
    {
      "cell_type": "code",
      "source": [
        "train_loader = torch.utils.data.DataLoader(dataset = train_data, batch_size = batch_size, shuffle = True)\n",
        "test_loader = torch.utils.data.DataLoader(dataset = test_data, batch_size = batch_size, shuffle = True)\n",
        "\n",
        "first_batch = train_loader.__iter__().__next__()"
      ],
      "metadata": {
        "id": "-9OG-m21C9jZ"
      },
      "execution_count": null,
      "outputs": []
    },
    {
      "cell_type": "code",
      "source": [
        "class CNN(nn.Module):\n",
        "  def __init__(self):\n",
        "    super(CNN, self).__init__()\n",
        "    self.conv1 = nn.Conv2d(1, 32, 3, 1)\n",
        "    self.conv2 = nn.Conv2d(32, 64, 3 ,1)\n",
        "    self.dropout1 = nn.Dropout2d(0.25)\n",
        "    self.dropout2 = nn.Dropout(0.5)\n",
        "    self.fc1 = nn.Linear(9216, 128)\n",
        "    self.fc2 = nn.Linear(128, 10)\n",
        "  \n",
        "  def forward(self, x):\n",
        "    x = self.conv1(x)\n",
        "    x = F.relu(x)\n",
        "    x = self.conv2(x)\n",
        "    x = F.relu(x)\n",
        "    x = F.max_pool2d(x, 2)\n",
        "    x = self.dropout1(x)\n",
        "    x = torch.flatten(x, 1)\n",
        "    x = self.fc1(x)\n",
        "    x = F.relu(x)\n",
        "    x = self.dropout2(x)\n",
        "    x = self.fc2(x)\n",
        "    output = F.log_softmax(x, dim = 1)\n",
        "    return output"
      ],
      "metadata": {
        "id": "6khVww2GHOie"
      },
      "execution_count": null,
      "outputs": []
    },
    {
      "cell_type": "code",
      "source": [
        "model = CNN().to(device)\n",
        "optimizer = optim.Adam(model.parameters(), lr = learning_rate)\n",
        "criterion = nn.CrossEntropyLoss()"
      ],
      "metadata": {
        "id": "kj_gBUrJA1dv"
      },
      "execution_count": null,
      "outputs": []
    },
    {
      "cell_type": "code",
      "source": [
        "print(model)"
      ],
      "metadata": {
        "colab": {
          "base_uri": "https://localhost:8080/"
        },
        "id": "dwOpSdm4BEBp",
        "outputId": "6b907f47-f475-4754-ab03-7c0e6db09c44"
      },
      "execution_count": null,
      "outputs": [
        {
          "output_type": "stream",
          "name": "stdout",
          "text": [
            "CNN(\n",
            "  (conv1): Conv2d(1, 32, kernel_size=(3, 3), stride=(1, 1))\n",
            "  (conv2): Conv2d(32, 64, kernel_size=(3, 3), stride=(1, 1))\n",
            "  (dropout1): Dropout2d(p=0.25, inplace=False)\n",
            "  (dropout2): Dropout(p=0.5, inplace=False)\n",
            "  (fc1): Linear(in_features=9216, out_features=128, bias=True)\n",
            "  (fc2): Linear(in_features=128, out_features=10, bias=True)\n",
            ")\n"
          ]
        }
      ]
    },
    {
      "cell_type": "code",
      "source": [
        "model.train()\n",
        "i = 0\n",
        "for epoch in range(epoch_num):\n",
        "  for data, target in train_loader:\n",
        "    data = data.to(device)\n",
        "    target = target.to(device)\n",
        "    optimizer.zero_grad()\n",
        "    output = model(data)\n",
        "    loss = criterion(output, target)\n",
        "    loss.backward()\n",
        "    optimizer.step()\n",
        "    if i % 1000 == 0:\n",
        "      print('Train Step: {}\\tLoss: {:.3f}'.format(i, loss.item()))\n",
        "    i += 1\n",
        "print('Train done')"
      ],
      "metadata": {
        "colab": {
          "base_uri": "https://localhost:8080/"
        },
        "id": "FBL24eHoBGwZ",
        "outputId": "30c69b87-9c6c-452f-eeca-8810a03d7d21"
      },
      "execution_count": null,
      "outputs": [
        {
          "output_type": "stream",
          "name": "stdout",
          "text": [
            "Train Step: 0\tLoss: 2.294\n",
            "Train Step: 1000\tLoss: 0.256\n",
            "Train Step: 2000\tLoss: 0.156\n",
            "Train Step: 3000\tLoss: 0.252\n",
            "Train Step: 4000\tLoss: 0.130\n",
            "Train Step: 5000\tLoss: 0.081\n",
            "Train Step: 6000\tLoss: 0.080\n",
            "Train Step: 7000\tLoss: 0.090\n",
            "Train Step: 8000\tLoss: 0.207\n",
            "Train Step: 9000\tLoss: 0.097\n",
            "Train Step: 10000\tLoss: 0.072\n",
            "Train Step: 11000\tLoss: 0.026\n",
            "Train Step: 12000\tLoss: 0.035\n",
            "Train Step: 13000\tLoss: 0.057\n",
            "Train Step: 14000\tLoss: 0.016\n",
            "Train Step: 15000\tLoss: 0.002\n",
            "Train Step: 16000\tLoss: 0.054\n",
            "Train Step: 17000\tLoss: 0.012\n",
            "Train done\n"
          ]
        }
      ]
    },
    {
      "cell_type": "code",
      "source": [
        "# 모델 평가\n",
        "model.eval()\n",
        "correct = 0\n",
        "for data, target in test_loader:\n",
        "  data = data.to(device)\n",
        "  target = target.to(device)\n",
        "  output = model(data)\n",
        "  prediction = output.data.max(1)[1]\n",
        "  correct += prediction.eq(target.data).sum()\n",
        "\n",
        "print('Test set: Accuracy: {:.2f}%'.format(100 * correct / len(test_loader.dataset)))"
      ],
      "metadata": {
        "colab": {
          "base_uri": "https://localhost:8080/"
        },
        "id": "0wAgrfNbBsqq",
        "outputId": "738af938-62d2-472e-b704-b0a57ffe331c"
      },
      "execution_count": null,
      "outputs": [
        {
          "output_type": "stream",
          "name": "stdout",
          "text": [
            "Test set: Accuracy: 98.96%\n"
          ]
        }
      ]
    }
  ]
}